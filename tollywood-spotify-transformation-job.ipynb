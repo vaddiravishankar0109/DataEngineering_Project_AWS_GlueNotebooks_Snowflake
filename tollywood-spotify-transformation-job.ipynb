{
	"metadata": {
		"kernelspec": {
			"name": "glue_pyspark",
			"display_name": "Glue PySpark",
			"language": "python"
		},
		"language_info": {
			"name": "Python_Glue_Session",
			"mimetype": "text/x-python",
			"codemirror_mode": {
				"name": "python",
				"version": 3
			},
			"pygments_lexer": "python3",
			"file_extension": ".py"
		},
		"toc-autonumbering": true
	},
	"nbformat_minor": 4,
	"nbformat": 4,
	"cells": [
		{
			"cell_type": "code",
			"source": "%idle_timeout 2880\n%glue_version 5.0\n%worker_type G.1X\n%number_of_workers 2\n\nimport sys\nfrom awsglue.transforms import *\nfrom awsglue.utils import getResolvedOptions\nfrom pyspark.context import SparkContext\nfrom awsglue.context import GlueContext\nfrom awsglue.job import Job\n  \nsc = SparkContext.getOrCreate()\nglueContext = GlueContext(sc)\nspark = glueContext.spark_session\njob = Job(glueContext)",
			"metadata": {
				"trusted": true,
				"editable": true
			},
			"execution_count": 1,
			"outputs": [
				{
					"name": "stdout",
					"text": "Current idle_timeout is 2880 minutes.\nidle_timeout has been set to 2880 minutes.\nSetting Glue version to: 5.0\nPrevious worker type: G.1X\nSetting new worker type to: G.1X\nPrevious number of workers: 2\nSetting new number of workers to: 2\nTrying to create a Glue session for the kernel.\nSession Type: glueetl\nWorker Type: G.1X\nNumber of Workers: 2\nIdle Timeout: 2880\nSession ID: 4d5b1bc2-cae9-47f4-b9a1-4061cd52f354\nApplying the following default arguments:\n--glue_kernel_version 1.0.8\n--enable-glue-datacatalog true\nWaiting for session 4d5b1bc2-cae9-47f4-b9a1-4061cd52f354 to get into ready status...\nSession 4d5b1bc2-cae9-47f4-b9a1-4061cd52f354 has been created.\n\n",
					"output_type": "stream"
				}
			]
		},
		{
			"cell_type": "code",
			"source": "s3_path = 's3://tollywood-api-data-extract-ravi/raw/to_processed/'\nsource_dyf = glueContext.create_dynamic_frame_from_options(\n    connection_type=\"s3\",\n    connection_options ={\"paths\": [s3_path]},\n    format=\"json\"\n)",
			"metadata": {
				"trusted": true,
				"tags": []
			},
			"execution_count": 10,
			"outputs": [
				{
					"name": "stdout",
					"text": "\n",
					"output_type": "stream"
				}
			]
		},
		{
			"cell_type": "code",
			"source": "# source_dyf.show()",
			"metadata": {
				"trusted": true,
				"tags": []
			},
			"execution_count": 10,
			"outputs": []
		},
		{
			"cell_type": "code",
			"source": "# toDF() will basically convert the entire JSON to dataframe \nspotify_df = source_dyf.toDF()",
			"metadata": {
				"trusted": true,
				"tags": []
			},
			"execution_count": 12,
			"outputs": [
				{
					"name": "stdout",
					"text": "\n",
					"output_type": "stream"
				}
			]
		},
		{
			"cell_type": "code",
			"source": "# spotify_df.show()",
			"metadata": {
				"trusted": true,
				"tags": []
			},
			"execution_count": 13,
			"outputs": [
				{
					"name": "stdout",
					"text": "+--------------------+--------------------+-----+----+------+--------+-----+\n|                href|               items|limit|next|offset|previous|total|\n+--------------------+--------------------+-----+----+------+--------+-----+\n|https://api.spoti...|[{2021-12-06T12:1...|  100|NULL|     0|    NULL|   40|\n+--------------------+--------------------+-----+----+------+--------+-----+\n",
					"output_type": "stream"
				}
			]
		},
		{
			"cell_type": "code",
			"source": "from pyspark.sql.functions import explode, col",
			"metadata": {
				"trusted": true,
				"tags": []
			},
			"execution_count": 14,
			"outputs": [
				{
					"name": "stdout",
					"text": "\n",
					"output_type": "stream"
				}
			]
		},
		{
			"cell_type": "code",
			"source": "spotify_df = spotify_df.withColumn(\"items\", explode(\"items\"))",
			"metadata": {
				"trusted": true,
				"tags": []
			},
			"execution_count": 15,
			"outputs": [
				{
					"name": "stdout",
					"text": "\n",
					"output_type": "stream"
				}
			]
		},
		{
			"cell_type": "code",
			"source": "# spotify_df.show()",
			"metadata": {
				"trusted": true,
				"tags": []
			},
			"execution_count": 17,
			"outputs": [
				{
					"name": "stdout",
					"text": "+--------------------+--------------------+-----+----+------+--------+-----+\n|                href|               items|limit|next|offset|previous|total|\n+--------------------+--------------------+-----+----+------+--------+-----+\n|https://api.spoti...|{2021-12-06T12:18...|  100|NULL|     0|    NULL|   40|\n|https://api.spoti...|{2021-12-06T12:20...|  100|NULL|     0|    NULL|   40|\n|https://api.spoti...|{2021-12-06T12:23...|  100|NULL|     0|    NULL|   40|\n|https://api.spoti...|{2021-12-06T12:24...|  100|NULL|     0|    NULL|   40|\n|https://api.spoti...|{2021-12-06T12:24...|  100|NULL|     0|    NULL|   40|\n|https://api.spoti...|{2021-12-06T12:24...|  100|NULL|     0|    NULL|   40|\n|https://api.spoti...|{2021-12-06T12:25...|  100|NULL|     0|    NULL|   40|\n|https://api.spoti...|{2021-12-06T12:25...|  100|NULL|     0|    NULL|   40|\n|https://api.spoti...|{2021-12-06T13:21...|  100|NULL|     0|    NULL|   40|\n|https://api.spoti...|{2021-12-06T13:22...|  100|NULL|     0|    NULL|   40|\n|https://api.spoti...|{2021-12-06T13:24...|  100|NULL|     0|    NULL|   40|\n|https://api.spoti...|{2021-12-06T13:24...|  100|NULL|     0|    NULL|   40|\n|https://api.spoti...|{2021-12-06T13:25...|  100|NULL|     0|    NULL|   40|\n|https://api.spoti...|{2021-12-06T13:31...|  100|NULL|     0|    NULL|   40|\n|https://api.spoti...|{2021-12-06T13:33...|  100|NULL|     0|    NULL|   40|\n|https://api.spoti...|{2021-12-06T13:35...|  100|NULL|     0|    NULL|   40|\n|https://api.spoti...|{2021-12-06T13:39...|  100|NULL|     0|    NULL|   40|\n|https://api.spoti...|{2021-12-06T13:42...|  100|NULL|     0|    NULL|   40|\n|https://api.spoti...|{2021-12-06T13:43...|  100|NULL|     0|    NULL|   40|\n|https://api.spoti...|{2021-12-06T13:44...|  100|NULL|     0|    NULL|   40|\n+--------------------+--------------------+-----+----+------+--------+-----+\nonly showing top 20 rows\n",
					"output_type": "stream"
				}
			]
		},
		{
			"cell_type": "code",
			"source": "# tollywood_album_df =spotify_df.select(col(\"items.track.album.id\").alias(\"album_id\") \\\n#                  ,col(\"items.track.album.name\").alias(\"album_name\") \\\n#                  ,col(\"items.track.album.release_date\").alias(\"release_date\") \\\n#                  ,col(\"items.track.album.external_urls.spotify\").alias(\"album_url\") \\\n#                  ,col(\"items.track.album.total_tracks\").alias(\"album_total_tracks\")).drop_duplicates(['album_id'])\n\n# tollywood_album_df.show()",
			"metadata": {
				"trusted": true,
				"tags": []
			},
			"execution_count": 23,
			"outputs": [
				{
					"name": "stdout",
					"text": "+--------------------+--------------------+------------+--------------------+------------------+\n|            album_id|          album_name|release_date|           album_url|album_total_tracks|\n+--------------------+--------------------+------------+--------------------+------------------+\n|0AarnnkRN01laay1j...| Chinnadana Neekosam|  2014-11-27|https://open.spot...|                 6|\n|0RtAAZvxDk5jXmhys...|               Julai|  2012-06-09|https://open.spot...|                 6|\n|0UKhCWkRL6X4Kwbjz...|Awaara (Original ...|  2010-04-10|https://open.spot...|                 6|\n|0vHE0cmA8orbBgzIW...|              Uppena|  2020-03-02|https://open.spot...|                 1|\n|220pe6dreuJ8550vt...|               Jayam|  2002-05-14|https://open.spot...|                12|\n|2dnfny8QAiGbUk9NI...|Ala Vaikunthapurr...|  2019-12-24|https://open.spot...|                 1|\n|33thvrIEnv8XgCjul...|          Mr Perfect|  2011-03-18|https://open.spot...|                 9|\n|3GP0G5V3s6bEdXCZS...|             Dookudu|  2011-08-18|https://open.spot...|                 6|\n|48qWtimyagRy7spCb...|               Aarya|  2004-04-19|https://open.spot...|                 6|\n|4BpfaiS3qe8u8Wn5A...|              Naayak|  2012-12-17|https://open.spot...|                 6|\n|4CO4EDT6CLK1TC6n4...|              Pokiri|  2006-04-08|https://open.spot...|                 6|\n|4EWlRbJKBFFRulwfK...|   Kothabangarulokam|  2008-08-30|https://open.spot...|                 6|\n|4Ix5gLPk0YsfyVibv...|              Okkadu|  2003-01-17|https://open.spot...|                 6|\n|4muLYtYomzwGvjhqU...|   Life Is Beautiful|  2012-07-27|https://open.spot...|                 6|\n|4nbsEScX6MTTXwXFU...|Seethamma Vakitlo...|  2012-12-16|https://open.spot...|                 7|\n|4pOqsafnYYQqZcmbf...|              Yevadu|  2013-07-01|https://open.spot...|                 6|\n|50udaEReo1qUJUU2b...|He’s Soo Cute (Fr...|  2019-12-16|https://open.spot...|                 1|\n|57x6HaiiJdeTg9yhf...|        Gabbar Singh|  2012-04-15|https://open.spot...|                 6|\n|5JedwC5U716Hg3pUA...|              Murari|  2001-02-01|https://open.spot...|                 6|\n|5MnjXkwvXsun5ivgd...|Inkem Inkem Inkem...|  2018-07-10|https://open.spot...|                 1|\n+--------------------+--------------------+------------+--------------------+------------------+\nonly showing top 20 rows\n",
					"output_type": "stream"
				}
			]
		},
		{
			"cell_type": "code",
			"source": "# tollywood_artist_df = spotify_df.select(explode(col(\"items.track.artists.id\")).alias(\"artist_id\") \\\n#     ,explode(col(\"items.track.artists.name\")).alias(\"artist_name\") \\\n#     ,explode(col(\"items.track.artists.external_urls.spotify\")).alias(\"artist_url\") \\\n#     ,col(\"items.track.album.id\").alias(\"artist_ablum_id\")).drop_duplicates(['artist_id']).drop_duplicates(['artist_id'])\n\n# tollywood_artist_df.show()",
			"metadata": {
				"trusted": true,
				"tags": []
			},
			"execution_count": 61,
			"outputs": [
				{
					"name": "stdout",
					"text": "+--------------------+-----------------+--------------------+--------------------+\n|           artist_id|      artist_name|          artist_url|     artist_ablum_id|\n+--------------------+-----------------+--------------------+--------------------+\n|00hL0oJD4pWef0kPY...|    R. P. Patnaik|https://open.spot...|220pe6dreuJ8550vt...|\n|0LSPREIgGMZXCuKVe...|          Karthik|https://open.spot...|4pOqsafnYYQqZcmbf...|\n|0PykiHCcDsMPRV7s6...|            Tippu|https://open.spot...|0RtAAZvxDk5jXmhys...|\n|0WiZi3Q419nMpAQEq...|  Mickey J. Meyer|https://open.spot...|4nbsEScX6MTTXwXFU...|\n|0kJO65h553i1iGsZu...|       Adnan Sami|https://open.spot...|0RtAAZvxDk5jXmhys...|\n|0kNlj2vZ0kH8CAKKl...|   Ranjith Govind|https://open.spot...|3GP0G5V3s6bEdXCZS...|\n|0oOet2f43PA68X5Rx...|          Karthik|https://open.spot...|4pOqsafnYYQqZcmbf...|\n|0scEW6ZihUHK7KtWb...|     Anuj Gurwara|https://open.spot...|7GOB3RBsULP8usndI...|\n|12l1SqSNsg2mI2IcX...| M. M. Keeravaani|https://open.spot...|7GOB3RBsULP8usndI...|\n|1BIAyVQxDuYrMqZ8H...|      S.P. Charan|https://open.spot...|5JedwC5U716Hg3pUA...|\n|1FI8Am7UxI2XLUtFs...|  Devi Sri Prasad|https://open.spot...|7vuWNVdv7zSwgHJ7q...|\n|1H4ZvA2yyK7wCmbvE...|  Rahul Sipligunj|https://open.spot...|78zqKU9guNUoZFs7m...|\n|1MRWm9vbsdOdqD1GY...|  Mickey J. Meyer|https://open.spot...|4nbsEScX6MTTXwXFU...|\n|1QvyquqkuuwUzdszy...|       Haricharan|https://open.spot...|4BpfaiS3qe8u8Wn5A...|\n|1SJOL9HJ08YOn92lF...|Shankar Mahadevan|https://open.spot...|57x6HaiiJdeTg9yhf...|\n|1TpuHZaoRQMiKcMRN...|      Madhu Priya|https://open.spot...|50udaEReo1qUJUU2b...|\n|1pDF5UltcypyatITA...|           Mangli|https://open.spot...|7BuoXUb63gAPM9CMO...|\n|27bGntdBHtYYP0QPk...|     Anuj Gurwara|https://open.spot...|7GOB3RBsULP8usndI...|\n|29umRgJCe6MeepDOq...|     Ramya Behara|https://open.spot...|62FLwY6ofjIoyfTB4...|\n|2Bu3DMTHHdXW4jnho...|  Mickey J. Meyer|https://open.spot...|4nbsEScX6MTTXwXFU...|\n+--------------------+-----------------+--------------------+--------------------+\nonly showing top 20 rows\n",
					"output_type": "stream"
				}
			]
		},
		{
			"cell_type": "code",
			"source": "# Lets create an function for modular programming approach \ndef process_albums(df):\n    df = df.select(col(\"items.track.album.id\").alias(\"album_id\") \\\n                 ,col(\"items.track.album.name\").alias(\"album_name\") \\\n                 ,col(\"items.track.album.release_date\").alias(\"release_date\") \\\n                 ,col(\"items.track.album.external_urls.spotify\").alias(\"album_url\") \\\n                 ,col(\"items.track.album.total_tracks\").alias(\"album_total_tracks\")).drop_duplicates(['album_id'])\n    return df\n\ndef process_artists(df):\n    df = df.select(explode(col(\"items.track.artists.id\")).alias(\"artist_id\") \\\n    ,explode(col(\"items.track.artists.name\")).alias(\"artist_name\") \\\n    ,explode(col(\"items.track.artists.external_urls.spotify\")).alias(\"artist_url\") \\\n    ,col(\"items.track.album.id\").alias(\"artist_ablum_id\")).drop_duplicates(['artist_id']).drop_duplicates(['artist_id'])\n    \n    return df",
			"metadata": {
				"trusted": true,
				"tags": []
			},
			"execution_count": 62,
			"outputs": [
				{
					"name": "stdout",
					"text": "\n",
					"output_type": "stream"
				}
			]
		},
		{
			"cell_type": "code",
			"source": "tollywood_album_df = process_albums(spotify_df)\ntollywood_album_df.show()",
			"metadata": {
				"trusted": true,
				"tags": []
			},
			"execution_count": 34,
			"outputs": [
				{
					"name": "stdout",
					"text": "+--------------------+--------------------+------------+--------------------+------------------+\n|            album_id|          album_name|release_date|           album_url|album_total_tracks|\n+--------------------+--------------------+------------+--------------------+------------------+\n|0AarnnkRN01laay1j...| Chinnadana Neekosam|  2014-11-27|https://open.spot...|                 6|\n|0RtAAZvxDk5jXmhys...|               Julai|  2012-06-09|https://open.spot...|                 6|\n|0UKhCWkRL6X4Kwbjz...|Awaara (Original ...|  2010-04-10|https://open.spot...|                 6|\n|0vHE0cmA8orbBgzIW...|              Uppena|  2020-03-02|https://open.spot...|                 1|\n|220pe6dreuJ8550vt...|               Jayam|  2002-05-14|https://open.spot...|                12|\n|2dnfny8QAiGbUk9NI...|Ala Vaikunthapurr...|  2019-12-24|https://open.spot...|                 1|\n|33thvrIEnv8XgCjul...|          Mr Perfect|  2011-03-18|https://open.spot...|                 9|\n|3GP0G5V3s6bEdXCZS...|             Dookudu|  2011-08-18|https://open.spot...|                 6|\n|48qWtimyagRy7spCb...|               Aarya|  2004-04-19|https://open.spot...|                 6|\n|4BpfaiS3qe8u8Wn5A...|              Naayak|  2012-12-17|https://open.spot...|                 6|\n|4CO4EDT6CLK1TC6n4...|              Pokiri|  2006-04-08|https://open.spot...|                 6|\n|4EWlRbJKBFFRulwfK...|   Kothabangarulokam|  2008-08-30|https://open.spot...|                 6|\n|4Ix5gLPk0YsfyVibv...|              Okkadu|  2003-01-17|https://open.spot...|                 6|\n|4muLYtYomzwGvjhqU...|   Life Is Beautiful|  2012-07-27|https://open.spot...|                 6|\n|4nbsEScX6MTTXwXFU...|Seethamma Vakitlo...|  2012-12-16|https://open.spot...|                 7|\n|4pOqsafnYYQqZcmbf...|              Yevadu|  2013-07-01|https://open.spot...|                 6|\n|50udaEReo1qUJUU2b...|He’s Soo Cute (Fr...|  2019-12-16|https://open.spot...|                 1|\n|57x6HaiiJdeTg9yhf...|        Gabbar Singh|  2012-04-15|https://open.spot...|                 6|\n|5JedwC5U716Hg3pUA...|              Murari|  2001-02-01|https://open.spot...|                 6|\n|5MnjXkwvXsun5ivgd...|Inkem Inkem Inkem...|  2018-07-10|https://open.spot...|                 1|\n+--------------------+--------------------+------------+--------------------+------------------+\nonly showing top 20 rows\n",
					"output_type": "stream"
				}
			]
		},
		{
			"cell_type": "code",
			"source": "tollywood_artist_df = process_artists(spotify_df)\ntollywood_artist_df.show()",
			"metadata": {
				"trusted": true,
				"tags": []
			},
			"execution_count": 58,
			"outputs": [
				{
					"name": "stdout",
					"text": "AssertionError: \n",
					"output_type": "stream"
				}
			]
		},
		{
			"cell_type": "code",
			"source": "def write_to_s3(df, path_suffix, format_type=\"csv\"):\n    # Convert back to DynamicFrame\n    dynamic_frame = DynamicFrame.fromDF(df, glueContext, \"dynamic_frame\")\n    \n    glueContext.write_dynamic_frame.from_options(\n        frame = dynamic_frame,\n        connection_type = \"s3\",\n        connection_options = {\"path\": f\"s3://tollywood-api-data-extract-ravi/transformed/{path_suffix}/\"},\n        format = format_type\n    )",
			"metadata": {
				"trusted": true,
				"tags": []
			},
			"execution_count": 64,
			"outputs": [
				{
					"name": "stdout",
					"text": "\n",
					"output_type": "stream"
				}
			]
		},
		{
			"cell_type": "code",
			"source": "from datetime import datetime\nwrite_to_s3(tollywood_album_df, 'album_transformed/album_transformed_{}'.format(datetime.now()))",
			"metadata": {
				"trusted": true,
				"tags": []
			},
			"execution_count": 65,
			"outputs": [
				{
					"name": "stdout",
					"text": "\n",
					"output_type": "stream"
				}
			]
		},
		{
			"cell_type": "code",
			"source": "write_to_s3(tollywood_artist_df, 'artist_transformed/artist_transformed_{}'.format(datetime.now()))",
			"metadata": {
				"trusted": true,
				"tags": []
			},
			"execution_count": 66,
			"outputs": [
				{
					"name": "stdout",
					"text": "\n",
					"output_type": "stream"
				}
			]
		},
		{
			"cell_type": "code",
			"source": "",
			"metadata": {},
			"execution_count": null,
			"outputs": []
		},
		{
			"cell_type": "code",
			"source": "",
			"metadata": {},
			"execution_count": null,
			"outputs": []
		},
		{
			"cell_type": "code",
			"source": "",
			"metadata": {},
			"execution_count": null,
			"outputs": []
		},
		{
			"cell_type": "code",
			"source": "",
			"metadata": {},
			"execution_count": null,
			"outputs": []
		}
	]
}