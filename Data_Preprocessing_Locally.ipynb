{
 "cells": [
  {
   "cell_type": "code",
   "execution_count": 19,
   "id": "2c5aff7c",
   "metadata": {},
   "outputs": [
    {
     "name": "stdout",
     "output_type": "stream",
     "text": [
      "Requirement already satisfied: spotipy in c:\\users\\pravina\\anaconda3\\lib\\site-packages (2.24.0)\n",
      "Requirement already satisfied: redis>=3.5.3 in c:\\users\\pravina\\anaconda3\\lib\\site-packages (from spotipy) (5.2.0)\n",
      "Requirement already satisfied: urllib3>=1.26.0 in c:\\users\\pravina\\anaconda3\\lib\\site-packages (from spotipy) (1.26.9)\n",
      "Requirement already satisfied: requests>=2.25.0 in c:\\users\\pravina\\anaconda3\\lib\\site-packages (from spotipy) (2.27.1)\n",
      "Requirement already satisfied: async-timeout>=4.0.3 in c:\\users\\pravina\\anaconda3\\lib\\site-packages (from redis>=3.5.3->spotipy) (5.0.1)\n",
      "Requirement already satisfied: idna<4,>=2.5 in c:\\users\\pravina\\anaconda3\\lib\\site-packages (from requests>=2.25.0->spotipy) (3.3)\n",
      "Requirement already satisfied: charset-normalizer~=2.0.0 in c:\\users\\pravina\\anaconda3\\lib\\site-packages (from requests>=2.25.0->spotipy) (2.0.4)\n",
      "Requirement already satisfied: certifi>=2017.4.17 in c:\\users\\pravina\\anaconda3\\lib\\site-packages (from requests>=2.25.0->spotipy) (2022.5.18.1)\n"
     ]
    }
   ],
   "source": [
    "# install the pacakge\n",
    "!pip install spotipy"
   ]
  },
  {
   "cell_type": "code",
   "execution_count": 20,
   "id": "4d871792",
   "metadata": {},
   "outputs": [],
   "source": [
    "# import neccessary libraries\n",
    "\n",
    "import spotipy\n",
    "from spotipy.oauth2 import SpotifyClientCredentials\n",
    "import pandas as pd"
   ]
  },
  {
   "cell_type": "code",
   "execution_count": 22,
   "id": "048e43e8",
   "metadata": {},
   "outputs": [],
   "source": [
    "# add you keys here \n",
    "\n",
    "client_credentials_manager = SpotifyClientCredentials(client_id=\"XXXXXXXX\", client_secret=\"XXXXXXX\")"
   ]
  },
  {
   "cell_type": "code",
   "execution_count": 27,
   "id": "62a95cf1",
   "metadata": {},
   "outputs": [
    {
     "name": "stdout",
     "output_type": "stream",
     "text": [
      "55R8yZjaAiUH3NWr5qvcyW\n"
     ]
    }
   ],
   "source": [
    "# Taking Tollywood top 50 Playlist\n",
    "tollywood_pearls_playlist_link = 'https://open.spotify.com/playlist/55R8yZjaAiUH3NWr5qvcyW'\n",
    "tollywood_pearls_playlist_uri = tollywood_pearls_playlist_link.split(\"/\")[-1]\n",
    "\n",
    "print(tollywood_pearls_playlist_uri)"
   ]
  },
  {
   "cell_type": "code",
   "execution_count": null,
   "id": "8c787b2d",
   "metadata": {},
   "outputs": [],
   "source": [
    "# now that we have the URI - we shall create an spotify object and then read the data from playlist \n",
    "sp = spotipy.Spotify(client_credentials_manager = client_credentials_manager)\n",
    "\n",
    "data = sp.playlist_tracks(tollywood_pearls_playlist_uri)\n",
    "print(data)"
   ]
  },
  {
   "cell_type": "code",
   "execution_count": 35,
   "id": "82f04201",
   "metadata": {},
   "outputs": [
    {
     "name": "stdout",
     "output_type": "stream",
     "text": [
      "{'spotify': 'https://open.spotify.com/track/4iKGu3xtvm90eBw0EIPWJP'}\n"
     ]
    }
   ],
   "source": [
    "'''\n",
    "items (list having dictionary object of each tracks) --> inside items there is track --> and inside track we have album \n",
    "and multiple value of artists can be there also external uri\n",
    "'''\n",
    "\n",
    "# print(data['items'][0]['track']) # this will give us first item track details \n",
    "# print(data['items'][0]['track']['album']) # this will give us first item track 'album' details \n",
    "# print(data['items'][0]['track']['artists']) # this will give us first item track 'artists' details\n",
    "# print(data['items'][0]['track']['external_urls']) #trackid url"
   ]
  },
  {
   "cell_type": "code",
   "execution_count": 38,
   "id": "86aad9d0",
   "metadata": {},
   "outputs": [
    {
     "name": "stdout",
     "output_type": "stream",
     "text": [
      "78zqKU9guNUoZFs7mn7TUG\n",
      "Naatu Naatu (From \"Rrr\")\n",
      "2021-11-10\n",
      "https://open.spotify.com/album/78zqKU9guNUoZFs7mn7TUG\n",
      "1\n"
     ]
    }
   ],
   "source": [
    "# Below are the album details we can extract from each item like - id, name, release_date, external_url, total_tracks . \n",
    "# If you notice we are iterating through single item - we want iterate through all the items \n",
    "print(data['items'][0]['track']['album']['id'])\n",
    "print(data['items'][0]['track']['album']['name'])\n",
    "print(data['items'][0]['track']['album']['release_date'])\n",
    "print(data['items'][0]['track']['album']['external_urls']['spotify'])\n",
    "print(data['items'][0]['track']['album']['total_tracks'])"
   ]
  },
  {
   "cell_type": "code",
   "execution_count": null,
   "id": "e44c23fe",
   "metadata": {},
   "outputs": [],
   "source": [
    "album_list = []\n",
    "\n",
    "for album in data['items']:\n",
    "    album_id = album['track']['album']['id']\n",
    "    album_song_name = album['track']['album']['name']\n",
    "    album_song_release_date = album['track']['album']['release_date']\n",
    "    album_url = album['track']['album']['external_urls']['spotify']\n",
    "    album_total_tracks = album['track']['album']['total_tracks']\n",
    "    \n",
    "    album_dict = {'album_id':album_id, 'album_song_name': album_song_name, 'album_release_date': album_release_date, 'album_url': album_url ,'album_total_tracks': album_total_tracks}\n",
    "    \n",
    "    album_list.append(album_dict)\n",
    "\n",
    "print(album_list)"
   ]
  },
  {
   "cell_type": "code",
   "execution_count": 45,
   "id": "68a9c68c",
   "metadata": {},
   "outputs": [
    {
     "name": "stdout",
     "output_type": "stream",
     "text": [
      "[{'external_urls': {'spotify': 'https://open.spotify.com/artist/1H4ZvA2yyK7wCmbvEUWvPn'}, 'href': 'https://api.spotify.com/v1/artists/1H4ZvA2yyK7wCmbvEUWvPn', 'id': '1H4ZvA2yyK7wCmbvEUWvPn', 'name': 'Rahul Sipligunj', 'type': 'artist', 'uri': 'spotify:artist:1H4ZvA2yyK7wCmbvEUWvPn'}, {'external_urls': {'spotify': 'https://open.spotify.com/artist/4tejKImNVmDcORNBuZ1l14'}, 'href': 'https://api.spotify.com/v1/artists/4tejKImNVmDcORNBuZ1l14', 'id': '4tejKImNVmDcORNBuZ1l14', 'name': 'Kala Bhairava', 'type': 'artist', 'uri': 'spotify:artist:4tejKImNVmDcORNBuZ1l14'}]\n"
     ]
    }
   ],
   "source": [
    "# Now we will try to get the artists details but if you carfully notice tere are multiple artists for each album_song\n",
    "print(data['items'][0]['track']['artists']) "
   ]
  },
  {
   "cell_type": "code",
   "execution_count": null,
   "id": "29e8b892",
   "metadata": {},
   "outputs": [],
   "source": [
    "artist_list = []\n",
    "\n",
    "for artist in data['items']:\n",
    "    for key,value in artist.items():\n",
    "        if key=='track':\n",
    "            for ind_artist in value['artists']:\n",
    "                artist_id = ind_artist['id']\n",
    "                artist_name = ind_artist['name']\n",
    "                artist_url = ind_artist['external_urls']['spotify']\n",
    "            artist_album_id = value['album']['id']            \n",
    "            \n",
    "            artist_dict = {'artist_album_id': artist_album_id,'artist_id': artist_id, 'artist_name' : artist_name, 'artist_url' : artist_url}\n",
    "            artist_list.append(artist_dict)\n",
    "\n",
    "print(artist_list)"
   ]
  },
  {
   "cell_type": "code",
   "execution_count": 58,
   "id": "bf7b3f44",
   "metadata": {},
   "outputs": [
    {
     "data": {
      "text/html": [
       "<div>\n",
       "<style scoped>\n",
       "    .dataframe tbody tr th:only-of-type {\n",
       "        vertical-align: middle;\n",
       "    }\n",
       "\n",
       "    .dataframe tbody tr th {\n",
       "        vertical-align: top;\n",
       "    }\n",
       "\n",
       "    .dataframe thead th {\n",
       "        text-align: right;\n",
       "    }\n",
       "</style>\n",
       "<table border=\"1\" class=\"dataframe\">\n",
       "  <thead>\n",
       "    <tr style=\"text-align: right;\">\n",
       "      <th></th>\n",
       "      <th>album_id</th>\n",
       "      <th>album_song_name</th>\n",
       "      <th>album_release_date</th>\n",
       "      <th>album_url</th>\n",
       "      <th>album_total_tracks</th>\n",
       "    </tr>\n",
       "  </thead>\n",
       "  <tbody>\n",
       "    <tr>\n",
       "      <th>0</th>\n",
       "      <td>78zqKU9guNUoZFs7mn7TUG</td>\n",
       "      <td>Naatu Naatu (From \"Rrr\")</td>\n",
       "      <td>2019-12-16</td>\n",
       "      <td>https://open.spotify.com/album/78zqKU9guNUoZFs...</td>\n",
       "      <td>1</td>\n",
       "    </tr>\n",
       "    <tr>\n",
       "      <th>1</th>\n",
       "      <td>7n0FU3pX0MTI51ToZaKRYq</td>\n",
       "      <td>Pelli SandaD</td>\n",
       "      <td>2019-12-16</td>\n",
       "      <td>https://open.spotify.com/album/7n0FU3pX0MTI51T...</td>\n",
       "      <td>6</td>\n",
       "    </tr>\n",
       "    <tr>\n",
       "      <th>2</th>\n",
       "      <td>5MnjXkwvXsun5ivgdFNmud</td>\n",
       "      <td>Inkem Inkem Inkem Kaavaale (From \"Geetha Govin...</td>\n",
       "      <td>2019-12-16</td>\n",
       "      <td>https://open.spotify.com/album/5MnjXkwvXsun5iv...</td>\n",
       "      <td>1</td>\n",
       "    </tr>\n",
       "    <tr>\n",
       "      <th>3</th>\n",
       "      <td>7BuoXUb63gAPM9CMOlXJw1</td>\n",
       "      <td>Love Story</td>\n",
       "      <td>2019-12-16</td>\n",
       "      <td>https://open.spotify.com/album/7BuoXUb63gAPM9C...</td>\n",
       "      <td>1</td>\n",
       "    </tr>\n",
       "    <tr>\n",
       "      <th>4</th>\n",
       "      <td>7dwnZ2cEFRxBsUqjwBrxAs</td>\n",
       "      <td>Neeli Neeli Aakasam (From \"30 Rojullo Preminch...</td>\n",
       "      <td>2019-12-16</td>\n",
       "      <td>https://open.spotify.com/album/7dwnZ2cEFRxBsUq...</td>\n",
       "      <td>1</td>\n",
       "    </tr>\n",
       "  </tbody>\n",
       "</table>\n",
       "</div>"
      ],
      "text/plain": [
       "                 album_id                                    album_song_name  \\\n",
       "0  78zqKU9guNUoZFs7mn7TUG                           Naatu Naatu (From \"Rrr\")   \n",
       "1  7n0FU3pX0MTI51ToZaKRYq                                       Pelli SandaD   \n",
       "2  5MnjXkwvXsun5ivgdFNmud  Inkem Inkem Inkem Kaavaale (From \"Geetha Govin...   \n",
       "3  7BuoXUb63gAPM9CMOlXJw1                                         Love Story   \n",
       "4  7dwnZ2cEFRxBsUqjwBrxAs  Neeli Neeli Aakasam (From \"30 Rojullo Preminch...   \n",
       "\n",
       "  album_release_date                                          album_url  \\\n",
       "0         2019-12-16  https://open.spotify.com/album/78zqKU9guNUoZFs...   \n",
       "1         2019-12-16  https://open.spotify.com/album/7n0FU3pX0MTI51T...   \n",
       "2         2019-12-16  https://open.spotify.com/album/5MnjXkwvXsun5iv...   \n",
       "3         2019-12-16  https://open.spotify.com/album/7BuoXUb63gAPM9C...   \n",
       "4         2019-12-16  https://open.spotify.com/album/7dwnZ2cEFRxBsUq...   \n",
       "\n",
       "   album_total_tracks  \n",
       "0                   1  \n",
       "1                   6  \n",
       "2                   1  \n",
       "3                   1  \n",
       "4                   1  "
      ]
     },
     "execution_count": 58,
     "metadata": {},
     "output_type": "execute_result"
    }
   ],
   "source": [
    "album_df = pd.DataFrame(album_list)\n",
    "album_df.head()"
   ]
  },
  {
   "cell_type": "code",
   "execution_count": 59,
   "id": "1d889c51",
   "metadata": {},
   "outputs": [
    {
     "data": {
      "text/html": [
       "<div>\n",
       "<style scoped>\n",
       "    .dataframe tbody tr th:only-of-type {\n",
       "        vertical-align: middle;\n",
       "    }\n",
       "\n",
       "    .dataframe tbody tr th {\n",
       "        vertical-align: top;\n",
       "    }\n",
       "\n",
       "    .dataframe thead th {\n",
       "        text-align: right;\n",
       "    }\n",
       "</style>\n",
       "<table border=\"1\" class=\"dataframe\">\n",
       "  <thead>\n",
       "    <tr style=\"text-align: right;\">\n",
       "      <th></th>\n",
       "      <th>artist_album_id</th>\n",
       "      <th>artist_id</th>\n",
       "      <th>artist_name</th>\n",
       "      <th>artist_url</th>\n",
       "    </tr>\n",
       "  </thead>\n",
       "  <tbody>\n",
       "    <tr>\n",
       "      <th>0</th>\n",
       "      <td>78zqKU9guNUoZFs7mn7TUG</td>\n",
       "      <td>4tejKImNVmDcORNBuZ1l14</td>\n",
       "      <td>Kala Bhairava</td>\n",
       "      <td>https://open.spotify.com/artist/4tejKImNVmDcOR...</td>\n",
       "    </tr>\n",
       "    <tr>\n",
       "      <th>1</th>\n",
       "      <td>7n0FU3pX0MTI51ToZaKRYq</td>\n",
       "      <td>2qAZ1jgRpRDcBg22rd9NNC</td>\n",
       "      <td>Haricharan, Shweta Pandit</td>\n",
       "      <td>https://open.spotify.com/artist/2qAZ1jgRpRDcBg...</td>\n",
       "    </tr>\n",
       "    <tr>\n",
       "      <th>2</th>\n",
       "      <td>5MnjXkwvXsun5ivgdFNmud</td>\n",
       "      <td>7qjJw7ZM2ekDSahLXPjIlN</td>\n",
       "      <td>Sid Sriram</td>\n",
       "      <td>https://open.spotify.com/artist/7qjJw7ZM2ekDSa...</td>\n",
       "    </tr>\n",
       "    <tr>\n",
       "      <th>3</th>\n",
       "      <td>7BuoXUb63gAPM9CMOlXJw1</td>\n",
       "      <td>1pDF5UltcypyatITA3Pduo</td>\n",
       "      <td>Mangli</td>\n",
       "      <td>https://open.spotify.com/artist/1pDF5Ultcypyat...</td>\n",
       "    </tr>\n",
       "    <tr>\n",
       "      <th>4</th>\n",
       "      <td>7dwnZ2cEFRxBsUqjwBrxAs</td>\n",
       "      <td>74S8YRi4XQ5yf9ToSzuY80</td>\n",
       "      <td>Sunitha</td>\n",
       "      <td>https://open.spotify.com/artist/74S8YRi4XQ5yf9...</td>\n",
       "    </tr>\n",
       "  </tbody>\n",
       "</table>\n",
       "</div>"
      ],
      "text/plain": [
       "          artist_album_id               artist_id                artist_name  \\\n",
       "0  78zqKU9guNUoZFs7mn7TUG  4tejKImNVmDcORNBuZ1l14              Kala Bhairava   \n",
       "1  7n0FU3pX0MTI51ToZaKRYq  2qAZ1jgRpRDcBg22rd9NNC  Haricharan, Shweta Pandit   \n",
       "2  5MnjXkwvXsun5ivgdFNmud  7qjJw7ZM2ekDSahLXPjIlN                 Sid Sriram   \n",
       "3  7BuoXUb63gAPM9CMOlXJw1  1pDF5UltcypyatITA3Pduo                     Mangli   \n",
       "4  7dwnZ2cEFRxBsUqjwBrxAs  74S8YRi4XQ5yf9ToSzuY80                    Sunitha   \n",
       "\n",
       "                                          artist_url  \n",
       "0  https://open.spotify.com/artist/4tejKImNVmDcOR...  \n",
       "1  https://open.spotify.com/artist/2qAZ1jgRpRDcBg...  \n",
       "2  https://open.spotify.com/artist/7qjJw7ZM2ekDSa...  \n",
       "3  https://open.spotify.com/artist/1pDF5Ultcypyat...  \n",
       "4  https://open.spotify.com/artist/74S8YRi4XQ5yf9...  "
      ]
     },
     "execution_count": 59,
     "metadata": {},
     "output_type": "execute_result"
    }
   ],
   "source": [
    "artist_df = pd.DataFrame(artist_list)\n",
    "artist_df.head()"
   ]
  },
  {
   "cell_type": "code",
   "execution_count": 60,
   "id": "8b40e1b5",
   "metadata": {},
   "outputs": [
    {
     "name": "stdout",
     "output_type": "stream",
     "text": [
      "<class 'pandas.core.frame.DataFrame'>\n",
      "RangeIndex: 40 entries, 0 to 39\n",
      "Data columns (total 5 columns):\n",
      " #   Column              Non-Null Count  Dtype \n",
      "---  ------              --------------  ----- \n",
      " 0   album_id            40 non-null     object\n",
      " 1   album_song_name     40 non-null     object\n",
      " 2   album_release_date  40 non-null     object\n",
      " 3   album_url           40 non-null     object\n",
      " 4   album_total_tracks  40 non-null     int64 \n",
      "dtypes: int64(1), object(4)\n",
      "memory usage: 1.7+ KB\n"
     ]
    }
   ],
   "source": [
    "album_df.info()"
   ]
  },
  {
   "cell_type": "code",
   "execution_count": 63,
   "id": "988a8017",
   "metadata": {},
   "outputs": [],
   "source": [
    "# if we album_release_date is object type hence changing in datetime\n",
    "album_df['album_release_date'] = pd.to_datetime(album_df['album_release_date'])"
   ]
  },
  {
   "cell_type": "code",
   "execution_count": 64,
   "id": "46a0f366",
   "metadata": {},
   "outputs": [
    {
     "name": "stdout",
     "output_type": "stream",
     "text": [
      "<class 'pandas.core.frame.DataFrame'>\n",
      "RangeIndex: 40 entries, 0 to 39\n",
      "Data columns (total 5 columns):\n",
      " #   Column              Non-Null Count  Dtype         \n",
      "---  ------              --------------  -----         \n",
      " 0   album_id            40 non-null     object        \n",
      " 1   album_song_name     40 non-null     object        \n",
      " 2   album_release_date  40 non-null     datetime64[ns]\n",
      " 3   album_url           40 non-null     object        \n",
      " 4   album_total_tracks  40 non-null     int64         \n",
      "dtypes: datetime64[ns](1), int64(1), object(3)\n",
      "memory usage: 1.7+ KB\n"
     ]
    }
   ],
   "source": [
    "album_df.info()"
   ]
  },
  {
   "cell_type": "code",
   "execution_count": null,
   "id": "195d5882",
   "metadata": {},
   "outputs": [],
   "source": []
  }
 ],
 "metadata": {
  "kernelspec": {
   "display_name": "Python 3 (ipykernel)",
   "language": "python",
   "name": "python3"
  },
  "language_info": {
   "codemirror_mode": {
    "name": "ipython",
    "version": 3
   },
   "file_extension": ".py",
   "mimetype": "text/x-python",
   "name": "python",
   "nbconvert_exporter": "python",
   "pygments_lexer": "ipython3",
   "version": "3.9.12"
  }
 },
 "nbformat": 4,
 "nbformat_minor": 5
}
